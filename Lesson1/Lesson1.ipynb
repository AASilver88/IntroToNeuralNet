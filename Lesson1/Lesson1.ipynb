{
  "nbformat": 4,
  "nbformat_minor": 0,
  "metadata": {
    "colab": {
      "provenance": []
    },
    "kernelspec": {
      "name": "python3",
      "display_name": "Python 3"
    },
    "language_info": {
      "name": "python"
    }
  },
  "cells": [
    {
      "cell_type": "code",
      "execution_count": 1,
      "metadata": {
        "id": "Vc7PK6t0eOFf"
      },
      "outputs": [],
      "source": [
        "import numpy as np"
      ]
    },
    {
      "cell_type": "code",
      "source": [
        "def sigmoid (x):\n",
        "  #Наша функция активации: f(x) = 1 / (1 + e^(-x))\n",
        "  return 1 / (1 + np.exp(-x))"
      ],
      "metadata": {
        "id": "iZ23AgO_ebgj"
      },
      "execution_count": 2,
      "outputs": []
    },
    {
      "cell_type": "code",
      "source": [
        "class Neuron:\n",
        "  def __init__(self, weights, bias):\n",
        "    self.weights = weights\n",
        "    #weights веса\n",
        "    self.bias = bias\n",
        "    #bias смещение\n",
        "\n",
        "  def feedforward(self, inputs):\n",
        "    # Умножаем входы на веса, прибавляем порог, затем используем функцию активации\n",
        "    total = np.dot(self.weights, inputs) + self.bias\n",
        "    #сумматор, матричное умножениу + смещение\n",
        "    return sigmoid(total)"
      ],
      "metadata": {
        "id": "cTVf0YQgfIYO"
      },
      "execution_count": 3,
      "outputs": []
    },
    {
      "cell_type": "code",
      "source": [
        "weights = np.array([0, 1]) # w1 = 0, w2 = 1\n",
        "bias = 4                   # b = 4\n",
        "n = Neuron(weights, bias)\n",
        "\n",
        "x = np.array([2, 3])       # x1 = 2, x2 = 3\n",
        "print(n.feedforward(x))    # 0.9990889488055994"
      ],
      "metadata": {
        "colab": {
          "base_uri": "https://localhost:8080/"
        },
        "id": "GO3gSSrXgeRS",
        "outputId": "7e3bf494-ef18-4eef-c872-bf0559966e06"
      },
      "execution_count": 4,
      "outputs": [
        {
          "output_type": "stream",
          "name": "stdout",
          "text": [
            "0.9990889488055994\n"
          ]
        }
      ]
    },
    {
      "cell_type": "code",
      "source": [
        "class OurNeuralNetwork:\n",
        "  '''\n",
        "  Нейронная сеть с:\n",
        "    - 2 входами\n",
        "    - скрытым слоем с 2 нейронами (h1, h2)\n",
        "    - выходной слой с 1 нейроном (o1)\n",
        "\n",
        "  *** DISCLAIMER ***:\n",
        "  Следующий код простой и обучающий, но НЕ оптимальный.\n",
        "  Код реальных нейронных сетей совсем на него не похож. НЕ копируйте его!\n",
        "  Изучайте и запускайте его, чтобы понять, как работает эта нейронная сеть.\n",
        "  '''\n",
        "  def __init__(self):\n",
        "    # Веса\n",
        "    self.w1 = np.random.normal()\n",
        "    self.w2 = np.random.normal()\n",
        "    self.w3 = np.random.normal()\n",
        "    self.w4 = np.random.normal()\n",
        "    self.w5 = np.random.normal()\n",
        "    self.w6 = np.random.normal()\n",
        "\n",
        "    # Пороги\n",
        "    self.b1 = np.random.normal()\n",
        "    self.b2 = np.random.normal()\n",
        "    self.b3 = np.random.normal()\n",
        "\n",
        "  def feedforward(self, x):\n",
        "    # x is a numpy array with 2 elements.\n",
        "    h1 = sigmoid(self.w1 * x[0] + self.w2 * x[1] + self.b1)\n",
        "    h2 = sigmoid(self.w3 * x[0] + self.w4 * x[1] + self.b2)\n",
        "    o1 = sigmoid(self.w5 * h1 + self.w6 * h2 + self.b3)\n",
        "    return o1\n",
        "\n",
        "  def train(self, data, all_y_trues):\n",
        "    '''\n",
        "    - data - массив numpy (n x 2) numpy, n = к-во наблюдений в наборе.\n",
        "    - all_y_trues - массив numpy с n элементами.\n",
        "      Элементы all_y_trues соответствуют наблюдениям в data.\n",
        "    '''\n",
        "    learn_rate = 0.1\n",
        "    epochs = 1000 # сколько раз пройти по всему набору данных\n",
        "\n",
        "    for epoch in range(epochs):\n",
        "      for x, y_true in zip(data, all_y_trues):\n",
        "        # --- Прямой проход (эти значения нам понадобятся позже)\n",
        "        sum_h1 = self.w1 * x[0] + self.w2 * x[1] + self.b1\n",
        "        h1 = sigmoid(sum_h1)\n",
        "\n",
        "        sum_h2 = self.w3 * x[0] + self.w4 * x[1] + self.b2\n",
        "        h2 = sigmoid(sum_h2)\n",
        "\n",
        "        sum_o1 = self.w5 * h1 + self.w6 * h2 + self.b3\n",
        "        o1 = sigmoid(sum_o1)\n",
        "        y_pred = o1\n",
        "\n",
        "        # --- Считаем частные производные.\n",
        "        # --- Имена: d_L_d_w1 = \"частная производная L по w1\"\n",
        "        d_L_d_ypred = -2 * (y_true - y_pred)\n",
        "\n",
        "        # Нейрон o1\n",
        "        d_ypred_d_w5 = h1 * deriv_sigmoid(sum_o1)\n",
        "        d_ypred_d_w6 = h2 * deriv_sigmoid(sum_o1)\n",
        "        d_ypred_d_b3 = deriv_sigmoid(sum_o1)\n",
        "\n",
        "        d_ypred_d_h1 = self.w5 * deriv_sigmoid(sum_o1)\n",
        "        d_ypred_d_h2 = self.w6 * deriv_sigmoid(sum_o1)\n",
        "\n",
        "        # Нейрон h1\n",
        "        d_h1_d_w1 = x[0] * deriv_sigmoid(sum_h1)\n",
        "        d_h1_d_w2 = x[1] * deriv_sigmoid(sum_h1)\n",
        "        d_h1_d_b1 = deriv_sigmoid(sum_h1)\n",
        "\n",
        "        # Нейрон h2\n",
        "        d_h2_d_w3 = x[0] * deriv_sigmoid(sum_h2)\n",
        "        d_h2_d_w4 = x[1] * deriv_sigmoid(sum_h2)\n",
        "        d_h2_d_b2 = deriv_sigmoid(sum_h2)\n",
        "\n",
        "        # --- Обновляем веса и пороги\n",
        "        # Нейрон h1\n",
        "        self.w1 -= learn_rate * d_L_d_ypred * d_ypred_d_h1 * d_h1_d_w1\n",
        "        self.w2 -= learn_rate * d_L_d_ypred * d_ypred_d_h1 * d_h1_d_w2\n",
        "        self.b1 -= learn_rate * d_L_d_ypred * d_ypred_d_h1 * d_h1_d_b1\n",
        "\n",
        "        # Нейрон h2\n",
        "        self.w3 -= learn_rate * d_L_d_ypred * d_ypred_d_h2 * d_h2_d_w3\n",
        "        self.w4 -= learn_rate * d_L_d_ypred * d_ypred_d_h2 * d_h2_d_w4\n",
        "        self.b2 -= learn_rate * d_L_d_ypred * d_ypred_d_h2 * d_h2_d_b2\n",
        "\n",
        "        # Нейрон o1\n",
        "        self.w5 -= learn_rate * d_L_d_ypred * d_ypred_d_w5\n",
        "        self.w6 -= learn_rate * d_L_d_ypred * d_ypred_d_w6\n",
        "        self.b3 -= learn_rate * d_L_d_ypred * d_ypred_d_b3\n",
        "\n",
        "      # --- Считаем полные потери в конце каждой эпохи\n",
        "      if epoch % 100 == 0:\n",
        "        y_preds = np.apply_along_axis(self.feedforward, 1, data)\n",
        "        loss = mse_loss(all_y_trues, y_preds)\n",
        "        print(\"Epoch %d loss: %.3f\" % (epoch, loss))"
      ],
      "metadata": {
        "id": "dxQapkRahKzs"
      },
      "execution_count": 5,
      "outputs": []
    },
    {
      "cell_type": "code",
      "source": [
        "def mse_loss(y_true, y_pred):\n",
        "  # y_true и y_pred - массивы numpy одинаковой длины.\n",
        "  return ((y_true - y_pred) ** 2).mean()"
      ],
      "metadata": {
        "id": "-Y3RiyS5iWYI"
      },
      "execution_count": 6,
      "outputs": []
    },
    {
      "cell_type": "code",
      "source": [
        "def deriv_sigmoid(x):\n",
        "  # Производная сигмоиды: f'(x) = f(x) * (1 - f(x))\n",
        "  fx = sigmoid(x)\n",
        "  return fx * (1 - fx)"
      ],
      "metadata": {
        "id": "Wlkv7Qsgjq9g"
      },
      "execution_count": 7,
      "outputs": []
    },
    {
      "cell_type": "code",
      "source": [
        "# Определим набор данных\n",
        "data = np.array([\n",
        "  [-2, -1],  # Алиса\n",
        "  [25, 6],   # Боб\n",
        "  [17, 4],   # Чарли\n",
        "  [-15, -6], # Диана\n",
        "])\n",
        "all_y_trues = np.array([\n",
        "  1, # Алиса\n",
        "  0, # Боб\n",
        "  0, # Чарли\n",
        "  1, # Диана\n",
        "])\n"
      ],
      "metadata": {
        "id": "m6CQxxC8mq16"
      },
      "execution_count": 8,
      "outputs": []
    },
    {
      "cell_type": "code",
      "source": [
        "# Обучаем нашу нейронную сеть!\n",
        "network = OurNeuralNetwork()\n",
        "network.train(data, all_y_trues)"
      ],
      "metadata": {
        "colab": {
          "base_uri": "https://localhost:8080/"
        },
        "id": "4TjzA27XpWrC",
        "outputId": "6873727c-2de5-4976-992d-11989e326645"
      },
      "execution_count": 9,
      "outputs": [
        {
          "output_type": "stream",
          "name": "stdout",
          "text": [
            "Epoch 0 loss: 0.089\n",
            "Epoch 100 loss: 0.022\n",
            "Epoch 200 loss: 0.012\n",
            "Epoch 300 loss: 0.008\n",
            "Epoch 400 loss: 0.006\n",
            "Epoch 500 loss: 0.005\n",
            "Epoch 600 loss: 0.004\n",
            "Epoch 700 loss: 0.003\n",
            "Epoch 800 loss: 0.003\n",
            "Epoch 900 loss: 0.002\n"
          ]
        }
      ]
    },
    {
      "cell_type": "code",
      "source": [
        "# Делаем пару предсказаний\n",
        "emily = np.array([-7, -3]) # 128 фунтов (52.35 кг), 63 дюйма (160 см)\n",
        "frank = np.array([20, 2])  # 155 pounds (63.4 кг), 68 inches (173 см)\n",
        "print(\"Эмили: %.3f\" % network.feedforward(emily)) # 0.951 - Ж\n",
        "print(\"Фрэнк: %.3f\" % network.feedforward(frank)) # 0.039 - М"
      ],
      "metadata": {
        "colab": {
          "base_uri": "https://localhost:8080/"
        },
        "id": "Zhd1TKSerfq5",
        "outputId": "5169d702-3124-4f45-fff8-2aa7398ede92"
      },
      "execution_count": 10,
      "outputs": [
        {
          "output_type": "stream",
          "name": "stdout",
          "text": [
            "Эмили: 0.967\n",
            "Фрэнк: 0.055\n"
          ]
        }
      ]
    },
    {
      "cell_type": "code",
      "source": [
        "def predict(weight, height):\n",
        "    # Переводим рост из сантиметров в футы\n",
        "    height_ft = height / 2.54\n",
        "    # Переводим вес из килограммов в фунты\n",
        "    weight_lb = weight * 2.448\n",
        "    #return weight_lb, height_ft\n",
        "    who = np.array([weight_lb-135, height_ft-66])\n",
        "    if network.feedforward(who) >= 0.5:\n",
        "        return 'Women'\n",
        "    else:\n",
        "        return 'Man'\n",
        "\n",
        "predict(77, 185)"
      ],
      "metadata": {
        "colab": {
          "base_uri": "https://localhost:8080/",
          "height": 35
        },
        "id": "vcYUK9M0vVK9",
        "outputId": "28eb3887-0e85-49c4-d6a5-9381d5a77a6e"
      },
      "execution_count": 11,
      "outputs": [
        {
          "output_type": "execute_result",
          "data": {
            "text/plain": [
              "'Man'"
            ],
            "application/vnd.google.colaboratory.intrinsic+json": {
              "type": "string"
            }
          },
          "metadata": {},
          "execution_count": 11
        }
      ]
    }
  ]
}